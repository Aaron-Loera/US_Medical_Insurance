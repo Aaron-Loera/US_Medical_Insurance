{
 "cells": [
  {
   "cell_type": "markdown",
   "metadata": {},
   "source": [
    "<h1>U.S. Medical Insurance Costs</h1>\n",
    "<h2>Scope Overview:</h2>\n",
    "<ol>\n",
    "<li>Goals - Identifying if there is a strong, positive correlation between insurance costs and the number of children a beneficiary claims?</li>\n",
    "<br>\n",
    "<li>Data - The provided goal(s) will be investigated using an open-source dataset, \"insurance.csv\". This file contains information such as age, sex, bmi, number of children, etc. on several beneficiaries around the U.S.</li>\n",
    "<br>\n",
    "<li>Analysis - Once the dataset has been processed, an exploratory analysis will be conducted to determine if there's a strong relationship between the variables \"number of children\" and \"charges/cost\". If a strong relationship is found, then further analysis will be conducted to determine if the correlation is positive.</li>\n",
    "</ol>\n"
   ]
  },
  {
   "cell_type": "code",
   "execution_count": 10,
   "metadata": {},
   "outputs": [
    {
     "name": "stdout",
     "output_type": "stream",
     "text": [
      "1337\n",
      "[{'age': '18', 'sex': 'male', 'bmi': '33.77', 'children': '1', 'smoker': 'no', 'region': 'southeast', 'charges': '1725.5523'}, {'age': '28', 'sex': 'male', 'bmi': '33', 'children': '3', 'smoker': 'no', 'region': 'southeast', 'charges': '4449.462'}]\n"
     ]
    }
   ],
   "source": [
    "# Reading in \"insurance.csv\" as a list of dictionaries for easy access\n",
    "import csv\n",
    "\n",
    "dataset = []\n",
    "\n",
    "with open(\"insurance.csv\") as file:\n",
    "    reader = csv.DictReader(file)\n",
    "    next(reader)\n",
    "    for row in reader:\n",
    "        dataset.append(row)\n",
    "        \n",
    "print(len(dataset))\n",
    "print(dataset[:2])"
   ]
  },
  {
   "cell_type": "code",
   "execution_count": 24,
   "metadata": {},
   "outputs": [
    {
     "data": {
      "text/plain": [
       "-2142678.000000065"
      ]
     },
     "execution_count": 24,
     "metadata": {},
     "output_type": "execute_result"
    }
   ],
   "source": [
    "def sxx(dataset:dict, x:str):\n",
    "    \"\"\"Takes a dictionary and the corresponding x-value as an input and returns the sum of squared deviations from the mean (i.e. SXX)\"\"\"\n",
    "    sum1 = 0\n",
    "    for n in dataset:\n",
    "        sum1 += int(n[x])\n",
    "    sum1 = (sum1 ** 2) / len(dataset)\n",
    "    \n",
    "    sum2 = 0\n",
    "    for n in dataset:\n",
    "        sum2 += int(n[x]) ** 2 - sum1\n",
    "    \n",
    "    return sum2\n",
    "\n",
    "sxx(dataset, 'children') \n",
    "            "
   ]
  },
  {
   "cell_type": "code",
   "execution_count": 31,
   "metadata": {},
   "outputs": [
    {
     "data": {
      "text/plain": [
       "-314238578275864.3"
      ]
     },
     "execution_count": 31,
     "metadata": {},
     "output_type": "execute_result"
    }
   ],
   "source": [
    "def syy(dataset:dict, y:str):\n",
    "    \"\"\"Takes a dictionary and the corresponding y-vaue as an input and returns the sum of squares of the differences between each y-value and \n",
    "    the mean y-value (i.e. SYY)\"\"\"\n",
    "    sum1 = 0\n",
    "    for n in dataset:\n",
    "        sum1 += float(n[y])\n",
    "    sum1 = (sum1 ** 2) / len(dataset)\n",
    "    \n",
    "    sum2 = 0\n",
    "    for n in dataset:\n",
    "        sum2 += float(n[y]) ** 2 - sum1\n",
    "    \n",
    "    return sum2\n",
    "\n",
    "syy(dataset, 'charges')\n",
    "    "
   ]
  },
  {
   "cell_type": "code",
   "execution_count": 29,
   "metadata": {},
   "outputs": [
    {
     "data": {
      "text/plain": [
       "-25966778823.781784"
      ]
     },
     "execution_count": 29,
     "metadata": {},
     "output_type": "execute_result"
    }
   ],
   "source": [
    "def sxy(dataset:dict, x:str, y:str):\n",
    "    \"\"\"Takes a dictionary alonng with x and y variables as an input and returns the covariance between said variables\"\"\"\n",
    "    sumx = 0\n",
    "    sumy = 0\n",
    "    for n in dataset:\n",
    "        sumx += int(n[x])\n",
    "        sumy += float(n[y])\n",
    "    sum1 = (sumx * sumy) / len(dataset)\n",
    "    \n",
    "    sum2 = 0\n",
    "    for n in dataset:\n",
    "        sum2 += int(n[x]) * float(n[y]) - sum1\n",
    "    \n",
    "    return sum2\n",
    "\n",
    "sxy(dataset, 'children', 'charges')    "
   ]
  }
 ],
 "metadata": {
  "kernelspec": {
   "display_name": "base",
   "language": "python",
   "name": "python3"
  },
  "language_info": {
   "codemirror_mode": {
    "name": "ipython",
    "version": 3
   },
   "file_extension": ".py",
   "mimetype": "text/x-python",
   "name": "python",
   "nbconvert_exporter": "python",
   "pygments_lexer": "ipython3",
   "version": "3.12.4"
  }
 },
 "nbformat": 4,
 "nbformat_minor": 4
}
