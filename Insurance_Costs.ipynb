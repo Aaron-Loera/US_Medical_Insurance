{
 "cells": [
  {
   "cell_type": "markdown",
   "metadata": {},
   "source": [
    "<h1>U.S. Medical Insurance Costs</h1>\n",
    "<h2>Scope Overview:</h2>\n",
    "<ol>\n",
    "<li>Goals - Identifying if there is a strong, positive correlation between insurance costs and the number of children a beneficiary claims?</li>\n",
    "<br>\n",
    "<li>Data - The provided goal(s) will be investigated using an open-source dataset, \"insurance.csv\". This file contains information such as age, sex, bmi, number of children, etc. on several beneficiaries around the U.S.</li>\n",
    "<br>\n",
    "<li>Analysis - Once the dataset has been processed, an exploratory analysis will be conducted to determine if there's a strong relationship between the variables \"number of children\" and \"charges/cost\". If a strong relationship is found, then further analysis will be conducted to determine if the correlation is positive.</li>\n",
    "</ol>\n"
   ]
  },
  {
   "cell_type": "code",
   "execution_count": 15,
   "metadata": {},
   "outputs": [
    {
     "name": "stdout",
     "output_type": "stream",
     "text": [
      "[{'age': '18', 'sex': 'male', 'bmi': '33.77', 'children': '1', 'smoker': 'no', 'region': 'southeast', 'charges': '1725.5523'}, {'age': '28', 'sex': 'male', 'bmi': '33', 'children': '3', 'smoker': 'no', 'region': 'southeast', 'charges': '4449.462'}, {'age': '33', 'sex': 'male', 'bmi': '22.705', 'children': '0', 'smoker': 'no', 'region': 'northwest', 'charges': '21984.47061'}, {'age': '32', 'sex': 'male', 'bmi': '28.88', 'children': '0', 'smoker': 'no', 'region': 'northwest', 'charges': '3866.8552'}, {'age': '31', 'sex': 'female', 'bmi': '25.74', 'children': '0', 'smoker': 'no', 'region': 'southeast', 'charges': '3756.6216'}]\n"
     ]
    }
   ],
   "source": [
    "# Reading in \"insurance.csv\" as a list of dictionaries for easy access\n",
    "import csv\n",
    "\n",
    "dataset = []\n",
    "\n",
    "with open(\"insurance.csv\") as file:\n",
    "    reader = csv.DictReader(file)\n",
    "    next(reader)\n",
    "    for row in reader:\n",
    "        dataset.append(row)"
   ]
  },
  {
   "cell_type": "code",
   "execution_count": null,
   "metadata": {},
   "outputs": [],
   "source": [
    "# Input - Record of benificiary\n",
    "# Output - Some float value between -1 and 1 to indicate correlation between \"number of children\" and \"cost\"\n",
    "def my_func():\n",
    "    pass"
   ]
  }
 ],
 "metadata": {
  "kernelspec": {
   "display_name": "base",
   "language": "python",
   "name": "python3"
  },
  "language_info": {
   "codemirror_mode": {
    "name": "ipython",
    "version": 3
   },
   "file_extension": ".py",
   "mimetype": "text/x-python",
   "name": "python",
   "nbconvert_exporter": "python",
   "pygments_lexer": "ipython3",
   "version": "3.12.4"
  }
 },
 "nbformat": 4,
 "nbformat_minor": 4
}
