{
 "cells": [
  {
   "cell_type": "markdown",
   "metadata": {},
   "source": [
    "<h1>U.S. Medical Insurance Costs</h1>\n",
    "<h2>Scope Overview:</h2>\n",
    "<ol>\n",
    "<li>Goals - Identifying if there is strong, positive correlation between insurance costs and the number of children a beneficiary claims?</li>\n",
    "<br>\n",
    "<li>Data - The provided goal(s) will be investigates using an open-source dataset, \"insurance.csv\". This file contains information such as age, sex, bmi, number of children, etc. on several beneficiaries around the U.S.</li>\n",
    "<br>\n",
    "<li>Analysis - Once the dataset has been processed, an exploratory analysis will be conducted to determine if there's a strong relationship between the variables \"number of children\" and \"charges/cost\". If a strong relationship is found then, further analysis will be conducted to determine if the correlation is positive.</li>\n",
    "</ol>\n"
   ]
  }
 ],
 "metadata": {
  "kernelspec": {
   "display_name": "base",
   "language": "python",
   "name": "python3"
  },
  "language_info": {
   "codemirror_mode": {
    "name": "ipython",
    "version": 3
   },
   "file_extension": ".py",
   "mimetype": "text/x-python",
   "name": "python",
   "nbconvert_exporter": "python",
   "pygments_lexer": "ipython3",
   "version": "3.12.4"
  }
 },
 "nbformat": 4,
 "nbformat_minor": 4
}
