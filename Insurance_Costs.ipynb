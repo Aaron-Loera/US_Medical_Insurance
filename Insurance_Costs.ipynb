{
 "cells": [
  {
   "cell_type": "markdown",
   "metadata": {},
   "source": [
    "<h1>U.S. Medical Insurance Costs</h1>\n",
    "<h2>Scope Overview:</h2>\n",
    "<ol>\n",
    "<li>Goals - Identifying if there is strong, positive correlation between insurance costs and the number of children a beneficiary claims?</li>\n",
    "<br>\n",
    "<li>Data - The provided goal(s) will be investigates using an open-source dataset, \"insurance.csv\". This file contains information such as age, sex, bmi, number of children, etc. on several beneficiaries around the U.S.</li>\n",
    "<br>\n",
    "<li>Analysis - Once the dataset has been processed, an exploratory analysis will be conducted to determine if there's a strong relationship between the variables \"number of children\" and \"charges/cost\". If a strong relationship is found then, further analysis will be conducted to determine if the correlation is positive.</li>\n",
    "</ol>\n"
   ]
  },
  {
   "cell_type": "code",
   "execution_count": 10,
   "metadata": {},
   "outputs": [
    {
     "ename": "AttributeError",
     "evalue": "'_csv.reader' object has no attribute 'json'",
     "output_type": "error",
     "traceback": [
      "\u001b[1;31m---------------------------------------------------------------------------\u001b[0m",
      "\u001b[1;31mAttributeError\u001b[0m                            Traceback (most recent call last)",
      "Cell \u001b[1;32mIn[10], line 7\u001b[0m\n\u001b[0;32m      5\u001b[0m \u001b[38;5;28;01mwith\u001b[39;00m \u001b[38;5;28mopen\u001b[39m(\u001b[38;5;124m\"\u001b[39m\u001b[38;5;124minsurance.csv\u001b[39m\u001b[38;5;124m\"\u001b[39m) \u001b[38;5;28;01mas\u001b[39;00m file:\n\u001b[0;32m      6\u001b[0m     reader \u001b[38;5;241m=\u001b[39m csv\u001b[38;5;241m.\u001b[39mreader(file)\n\u001b[1;32m----> 7\u001b[0m     \u001b[38;5;28mprint\u001b[39m(reader\u001b[38;5;241m.\u001b[39mjson())\n\u001b[0;32m      8\u001b[0m     \u001b[38;5;28mnext\u001b[39m(reader)\n\u001b[0;32m      9\u001b[0m     \u001b[38;5;28;01mfor\u001b[39;00m row \u001b[38;5;129;01min\u001b[39;00m reader:\n",
      "\u001b[1;31mAttributeError\u001b[0m: '_csv.reader' object has no attribute 'json'"
     ]
    }
   ],
   "source": [
    "import csv\n",
    "\n",
    "dataset = []\n",
    "\n",
    "with open(\"insurance.csv\") as file:\n",
    "    reader = csv.reader(file)\n",
    "    print(reader.json())\n",
    "    next(reader)\n",
    "    for row in reader:\n",
    "        dataset.append(row)\n",
    "        \n",
    "print(dataset[:3])"
   ]
  },
  {
   "cell_type": "code",
   "execution_count": null,
   "metadata": {},
   "outputs": [],
   "source": [
    "# Input - Record of benificiary\n",
    "# Output - Some float value between -1 and 1 to indicate correlation between \"number of children\" and \"cost\"\n",
    "def my_func():\n",
    "    pass"
   ]
  }
 ],
 "metadata": {
  "kernelspec": {
   "display_name": "base",
   "language": "python",
   "name": "python3"
  },
  "language_info": {
   "codemirror_mode": {
    "name": "ipython",
    "version": 3
   },
   "file_extension": ".py",
   "mimetype": "text/x-python",
   "name": "python",
   "nbconvert_exporter": "python",
   "pygments_lexer": "ipython3",
   "version": "3.12.4"
  }
 },
 "nbformat": 4,
 "nbformat_minor": 4
}
